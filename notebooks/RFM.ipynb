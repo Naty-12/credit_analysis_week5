{
 "cells": [
  {
   "cell_type": "code",
   "execution_count": 1,
   "id": "76ffb63f",
   "metadata": {},
   "outputs": [],
   "source": [
    "import pandas as pd \n",
    "from sklearn.cluster import KMeans"
   ]
  },
  {
   "cell_type": "code",
   "execution_count": 2,
   "id": "14e502ec",
   "metadata": {},
   "outputs": [],
   "source": [
    "df = pd.read_csv(\"C:/Users/techin/credit_analysis_week5/data/processed/cleaned_data.csv\")\n",
    "df_cluster = df[['CustomerId', 'num__Amount_sum', 'num__Frequency', 'num__Recency']].copy()\n",
    "X_cluster = df_cluster[['num__Amount_sum', 'num__Frequency', 'num__Recency']]"
   ]
  },
  {
   "cell_type": "code",
   "execution_count": 3,
   "id": "e7a131bd",
   "metadata": {},
   "outputs": [],
   "source": [
    "kmeans = KMeans(n_clusters=3, random_state=42)\n",
    "df_cluster['cluster'] = kmeans.fit_predict(X_cluster)"
   ]
  },
  {
   "cell_type": "code",
   "execution_count": 4,
   "id": "e1d032b7",
   "metadata": {},
   "outputs": [
    {
     "name": "stdout",
     "output_type": "stream",
     "text": [
      "         num__Amount_sum  num__Frequency  num__Recency\n",
      "cluster                                               \n",
      "0              -0.033131       -0.184052      1.121086\n",
      "1             -38.672798       41.947752     -0.090770\n",
      "2               0.037144        0.095374     -0.691313\n"
     ]
    }
   ],
   "source": [
    "# Inspect cluster stats to determine high-risk group\n",
    "cluster_summary = df_cluster.groupby('cluster')[['num__Amount_sum', 'num__Frequency', 'num__Recency']].mean()\n",
    "print(cluster_summary)\n",
    "\n",
    "# Example: Select high-risk cluster (e.g., lowest frequency)\n",
    "high_risk_cluster = 0\n",
    "\n",
    "# Assign binary target\n",
    "df_cluster['is_high_risk'] = (df_cluster['cluster'] == high_risk_cluster).astype(int)"
   ]
  },
  {
   "cell_type": "code",
   "execution_count": 6,
   "id": "5dc8f00b",
   "metadata": {},
   "outputs": [],
   "source": [
    "df_cluster = df_cluster[['CustomerId','is_high_risk']]"
   ]
  },
  {
   "cell_type": "code",
   "execution_count": 7,
   "id": "d84e46ad",
   "metadata": {},
   "outputs": [
    {
     "name": "stdout",
     "output_type": "stream",
     "text": [
      "✅ Data with 'is_high_risk' saved to: C:/Users/techin/credit_analysis_week5/data/processed/cleaned_risk.csv\n"
     ]
    }
   ],
   "source": [
    "output_path = \"C:/Users/techin/credit_analysis_week5/data/processed/cleaned_risk.csv\"\n",
    "df_cluster.to_csv(output_path, index=False)\n",
    "print(\"✅ Data with 'is_high_risk' saved to:\", output_path)"
   ]
  },
  {
   "cell_type": "code",
   "execution_count": null,
   "id": "2b38c54b",
   "metadata": {},
   "outputs": [],
   "source": []
  }
 ],
 "metadata": {
  "kernelspec": {
   "display_name": "venv",
   "language": "python",
   "name": "python3"
  },
  "language_info": {
   "codemirror_mode": {
    "name": "ipython",
    "version": 3
   },
   "file_extension": ".py",
   "mimetype": "text/x-python",
   "name": "python",
   "nbconvert_exporter": "python",
   "pygments_lexer": "ipython3",
   "version": "3.12.4"
  }
 },
 "nbformat": 4,
 "nbformat_minor": 5
}
